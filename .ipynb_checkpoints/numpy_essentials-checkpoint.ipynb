{
 "cells": [
  {
   "cell_type": "code",
   "execution_count": 1,
   "id": "c9935816-05ad-471e-b1c5-0ca57b67802a",
   "metadata": {},
   "outputs": [],
   "source": [
    "import numpy as np\n",
    "import matplotlib.pyplot as plt"
   ]
  },
  {
   "cell_type": "markdown",
   "id": "6faa3207-3c36-4cc3-9cd9-5cfd9beaf5b1",
   "metadata": {},
   "source": [
    "# CREATING ARRAYS"
   ]
  },
  {
   "cell_type": "code",
   "execution_count": 2,
   "id": "2e5cbe2f-2602-48ea-bb9b-e76397b620d3",
   "metadata": {},
   "outputs": [],
   "source": [
    "a1=np.array([3,5,7,3])     #create numpy array\n",
    "a2=np.zeros(10)            #create array of 10 zeros\n",
    "a3=np.ones(5)              #create array of 5 ones\n",
    "a4=np.random.random(10)    #generates 10 random numbers between 0 and 1 \n",
    "a5=np.random.randn(10)     #generates an array of 10 random numbers from a standard normal distribution (mean 0, standard deviation 1)\n",
    "a6=np.linspace(0,10,100)   #creates an array of 100 evenly spaced numbers between 0 and 10, inclusive\n",
    "a7=np.arange(0,10,0.02)    #creates random numbers between 0 and 1 with gap of 0.02"
   ]
  },
  {
   "cell_type": "code",
   "execution_count": 3,
   "id": "51d252e6-5705-4aac-ab59-26f49a53c58e",
   "metadata": {},
   "outputs": [
    {
     "data": {
      "text/plain": [
       "(array([3, 5, 7, 3]),\n",
       " array([0., 0., 0., 0., 0., 0., 0., 0., 0., 0.]),\n",
       " array([1., 1., 1., 1., 1.]),\n",
       " array([0.72000806, 0.30034131, 0.04127899, 0.11856602, 0.14522029,\n",
       "        0.27448123, 0.6311623 , 0.74884884, 0.21825836, 0.81716858]),\n",
       " array([ 0.50719479, -1.99008886, -0.12767233, -2.39577146, -0.05046665,\n",
       "        -0.07341864, -0.43480102,  1.27604464, -1.13564178, -0.66295758]),\n",
       " array([ 0.        ,  0.1010101 ,  0.2020202 ,  0.3030303 ,  0.4040404 ,\n",
       "         0.50505051,  0.60606061,  0.70707071,  0.80808081,  0.90909091,\n",
       "         1.01010101,  1.11111111,  1.21212121,  1.31313131,  1.41414141,\n",
       "         1.51515152,  1.61616162,  1.71717172,  1.81818182,  1.91919192,\n",
       "         2.02020202,  2.12121212,  2.22222222,  2.32323232,  2.42424242,\n",
       "         2.52525253,  2.62626263,  2.72727273,  2.82828283,  2.92929293,\n",
       "         3.03030303,  3.13131313,  3.23232323,  3.33333333,  3.43434343,\n",
       "         3.53535354,  3.63636364,  3.73737374,  3.83838384,  3.93939394,\n",
       "         4.04040404,  4.14141414,  4.24242424,  4.34343434,  4.44444444,\n",
       "         4.54545455,  4.64646465,  4.74747475,  4.84848485,  4.94949495,\n",
       "         5.05050505,  5.15151515,  5.25252525,  5.35353535,  5.45454545,\n",
       "         5.55555556,  5.65656566,  5.75757576,  5.85858586,  5.95959596,\n",
       "         6.06060606,  6.16161616,  6.26262626,  6.36363636,  6.46464646,\n",
       "         6.56565657,  6.66666667,  6.76767677,  6.86868687,  6.96969697,\n",
       "         7.07070707,  7.17171717,  7.27272727,  7.37373737,  7.47474747,\n",
       "         7.57575758,  7.67676768,  7.77777778,  7.87878788,  7.97979798,\n",
       "         8.08080808,  8.18181818,  8.28282828,  8.38383838,  8.48484848,\n",
       "         8.58585859,  8.68686869,  8.78787879,  8.88888889,  8.98989899,\n",
       "         9.09090909,  9.19191919,  9.29292929,  9.39393939,  9.49494949,\n",
       "         9.5959596 ,  9.6969697 ,  9.7979798 ,  9.8989899 , 10.        ]),\n",
       " array([0.  , 0.02, 0.04, 0.06, 0.08, 0.1 , 0.12, 0.14, 0.16, 0.18, 0.2 ,\n",
       "        0.22, 0.24, 0.26, 0.28, 0.3 , 0.32, 0.34, 0.36, 0.38, 0.4 , 0.42,\n",
       "        0.44, 0.46, 0.48, 0.5 , 0.52, 0.54, 0.56, 0.58, 0.6 , 0.62, 0.64,\n",
       "        0.66, 0.68, 0.7 , 0.72, 0.74, 0.76, 0.78, 0.8 , 0.82, 0.84, 0.86,\n",
       "        0.88, 0.9 , 0.92, 0.94, 0.96, 0.98, 1.  , 1.02, 1.04, 1.06, 1.08,\n",
       "        1.1 , 1.12, 1.14, 1.16, 1.18, 1.2 , 1.22, 1.24, 1.26, 1.28, 1.3 ,\n",
       "        1.32, 1.34, 1.36, 1.38, 1.4 , 1.42, 1.44, 1.46, 1.48, 1.5 , 1.52,\n",
       "        1.54, 1.56, 1.58, 1.6 , 1.62, 1.64, 1.66, 1.68, 1.7 , 1.72, 1.74,\n",
       "        1.76, 1.78, 1.8 , 1.82, 1.84, 1.86, 1.88, 1.9 , 1.92, 1.94, 1.96,\n",
       "        1.98, 2.  , 2.02, 2.04, 2.06, 2.08, 2.1 , 2.12, 2.14, 2.16, 2.18,\n",
       "        2.2 , 2.22, 2.24, 2.26, 2.28, 2.3 , 2.32, 2.34, 2.36, 2.38, 2.4 ,\n",
       "        2.42, 2.44, 2.46, 2.48, 2.5 , 2.52, 2.54, 2.56, 2.58, 2.6 , 2.62,\n",
       "        2.64, 2.66, 2.68, 2.7 , 2.72, 2.74, 2.76, 2.78, 2.8 , 2.82, 2.84,\n",
       "        2.86, 2.88, 2.9 , 2.92, 2.94, 2.96, 2.98, 3.  , 3.02, 3.04, 3.06,\n",
       "        3.08, 3.1 , 3.12, 3.14, 3.16, 3.18, 3.2 , 3.22, 3.24, 3.26, 3.28,\n",
       "        3.3 , 3.32, 3.34, 3.36, 3.38, 3.4 , 3.42, 3.44, 3.46, 3.48, 3.5 ,\n",
       "        3.52, 3.54, 3.56, 3.58, 3.6 , 3.62, 3.64, 3.66, 3.68, 3.7 , 3.72,\n",
       "        3.74, 3.76, 3.78, 3.8 , 3.82, 3.84, 3.86, 3.88, 3.9 , 3.92, 3.94,\n",
       "        3.96, 3.98, 4.  , 4.02, 4.04, 4.06, 4.08, 4.1 , 4.12, 4.14, 4.16,\n",
       "        4.18, 4.2 , 4.22, 4.24, 4.26, 4.28, 4.3 , 4.32, 4.34, 4.36, 4.38,\n",
       "        4.4 , 4.42, 4.44, 4.46, 4.48, 4.5 , 4.52, 4.54, 4.56, 4.58, 4.6 ,\n",
       "        4.62, 4.64, 4.66, 4.68, 4.7 , 4.72, 4.74, 4.76, 4.78, 4.8 , 4.82,\n",
       "        4.84, 4.86, 4.88, 4.9 , 4.92, 4.94, 4.96, 4.98, 5.  , 5.02, 5.04,\n",
       "        5.06, 5.08, 5.1 , 5.12, 5.14, 5.16, 5.18, 5.2 , 5.22, 5.24, 5.26,\n",
       "        5.28, 5.3 , 5.32, 5.34, 5.36, 5.38, 5.4 , 5.42, 5.44, 5.46, 5.48,\n",
       "        5.5 , 5.52, 5.54, 5.56, 5.58, 5.6 , 5.62, 5.64, 5.66, 5.68, 5.7 ,\n",
       "        5.72, 5.74, 5.76, 5.78, 5.8 , 5.82, 5.84, 5.86, 5.88, 5.9 , 5.92,\n",
       "        5.94, 5.96, 5.98, 6.  , 6.02, 6.04, 6.06, 6.08, 6.1 , 6.12, 6.14,\n",
       "        6.16, 6.18, 6.2 , 6.22, 6.24, 6.26, 6.28, 6.3 , 6.32, 6.34, 6.36,\n",
       "        6.38, 6.4 , 6.42, 6.44, 6.46, 6.48, 6.5 , 6.52, 6.54, 6.56, 6.58,\n",
       "        6.6 , 6.62, 6.64, 6.66, 6.68, 6.7 , 6.72, 6.74, 6.76, 6.78, 6.8 ,\n",
       "        6.82, 6.84, 6.86, 6.88, 6.9 , 6.92, 6.94, 6.96, 6.98, 7.  , 7.02,\n",
       "        7.04, 7.06, 7.08, 7.1 , 7.12, 7.14, 7.16, 7.18, 7.2 , 7.22, 7.24,\n",
       "        7.26, 7.28, 7.3 , 7.32, 7.34, 7.36, 7.38, 7.4 , 7.42, 7.44, 7.46,\n",
       "        7.48, 7.5 , 7.52, 7.54, 7.56, 7.58, 7.6 , 7.62, 7.64, 7.66, 7.68,\n",
       "        7.7 , 7.72, 7.74, 7.76, 7.78, 7.8 , 7.82, 7.84, 7.86, 7.88, 7.9 ,\n",
       "        7.92, 7.94, 7.96, 7.98, 8.  , 8.02, 8.04, 8.06, 8.08, 8.1 , 8.12,\n",
       "        8.14, 8.16, 8.18, 8.2 , 8.22, 8.24, 8.26, 8.28, 8.3 , 8.32, 8.34,\n",
       "        8.36, 8.38, 8.4 , 8.42, 8.44, 8.46, 8.48, 8.5 , 8.52, 8.54, 8.56,\n",
       "        8.58, 8.6 , 8.62, 8.64, 8.66, 8.68, 8.7 , 8.72, 8.74, 8.76, 8.78,\n",
       "        8.8 , 8.82, 8.84, 8.86, 8.88, 8.9 , 8.92, 8.94, 8.96, 8.98, 9.  ,\n",
       "        9.02, 9.04, 9.06, 9.08, 9.1 , 9.12, 9.14, 9.16, 9.18, 9.2 , 9.22,\n",
       "        9.24, 9.26, 9.28, 9.3 , 9.32, 9.34, 9.36, 9.38, 9.4 , 9.42, 9.44,\n",
       "        9.46, 9.48, 9.5 , 9.52, 9.54, 9.56, 9.58, 9.6 , 9.62, 9.64, 9.66,\n",
       "        9.68, 9.7 , 9.72, 9.74, 9.76, 9.78, 9.8 , 9.82, 9.84, 9.86, 9.88,\n",
       "        9.9 , 9.92, 9.94, 9.96, 9.98]))"
      ]
     },
     "execution_count": 3,
     "metadata": {},
     "output_type": "execute_result"
    }
   ],
   "source": [
    "a1,a2,a3,a4,a5,a6,a7"
   ]
  },
  {
   "cell_type": "markdown",
   "id": "e24c964e-1e2d-45d1-836d-7d58b86bdce1",
   "metadata": {},
   "source": [
    "# ARRAY OPERATIONS"
   ]
  },
  {
   "cell_type": "code",
   "execution_count": 4,
   "id": "25e799de-cb03-4e2a-bcc3-f753287cd056",
   "metadata": {},
   "outputs": [
    {
     "data": {
      "text/plain": [
       "array([ 6, 10, 14,  6])"
      ]
     },
     "execution_count": 4,
     "metadata": {},
     "output_type": "execute_result"
    }
   ],
   "source": [
    "2*a1"
   ]
  },
  {
   "cell_type": "code",
   "execution_count": 5,
   "id": "5b5404c1-75d2-43f9-99aa-cde539da755d",
   "metadata": {},
   "outputs": [
    {
     "data": {
      "text/plain": [
       "array([0.33333333, 0.2       , 0.14285714, 0.33333333])"
      ]
     },
     "execution_count": 5,
     "metadata": {},
     "output_type": "execute_result"
    }
   ],
   "source": [
    "1/a1"
   ]
  },
  {
   "cell_type": "code",
   "execution_count": 6,
   "id": "97cab6f9-fa59-45d4-9712-79e8e2112b7e",
   "metadata": {},
   "outputs": [
    {
     "data": {
      "text/plain": [
       "array([False,  True,  True, False])"
      ]
     },
     "execution_count": 6,
     "metadata": {},
     "output_type": "execute_result"
    }
   ],
   "source": [
    "a1>4"
   ]
  },
  {
   "cell_type": "code",
   "execution_count": 7,
   "id": "84d9d3c4-21cc-4885-be83-581610a90215",
   "metadata": {},
   "outputs": [
    {
     "data": {
      "text/plain": [
       "array([5.33333333, 7.2       , 9.14285714, 5.33333333])"
      ]
     },
     "execution_count": 7,
     "metadata": {},
     "output_type": "execute_result"
    }
   ],
   "source": [
    "1/a1+a1+2"
   ]
  },
  {
   "cell_type": "code",
   "execution_count": 8,
   "id": "7c247af5-5e00-4254-8cc8-89a55578a741",
   "metadata": {},
   "outputs": [],
   "source": [
    "x=np.linspace(0,1,100)\n",
    "y=x**2"
   ]
  },
  {
   "cell_type": "code",
   "execution_count": 9,
   "id": "835abbcd-67a1-4673-b01f-febcb6273c09",
   "metadata": {},
   "outputs": [
    {
     "data": {
      "text/plain": [
       "[<matplotlib.lines.Line2D at 0x7cae541c8490>]"
      ]
     },
     "execution_count": 9,
     "metadata": {},
     "output_type": "execute_result"
    },
    {
     "data": {
      "image/png": "[encoded data removed]",
      "text/plain": [
       "<Figure size 640x480 with 1 Axes>"
      ]
     },
     "metadata": {},
     "output_type": "display_data"
    }
   ],
   "source": [
    "plt.plot(x,y)"
   ]
  },
  {
   "cell_type": "code",
   "execution_count": 10,
   "id": "2379af51-1c13-4e3f-9b32-0ce7c4295370",
   "metadata": {},
   "outputs": [
    {
     "data": {
      "text/plain": [
       "(array([2., 1., 1., 2., 0., 0., 0., 1., 1., 2.]),\n",
       " array([0.04127899, 0.11886795, 0.1964569 , 0.27404586, 0.35163482,\n",
       "        0.42922378, 0.50681274, 0.5844017 , 0.66199066, 0.73957962,\n",
       "        0.81716858]),\n",
       " <BarContainer object of 10 artists>)"
      ]
     },
     "execution_count": 10,
     "metadata": {},
     "output_type": "execute_result"
    },
    {
     "data": {
      "image/png": "[encoded data removed]",
      "text/plain": [
       "<Figure size 640x480 with 1 Axes>"
      ]
     },
     "metadata": {},
     "output_type": "display_data"
    }
   ],
   "source": [
    "plt.hist(a4)"
   ]
  },
  {
   "cell_type": "code",
   "execution_count": 11,
   "id": "156e3186-7793-4c3e-987a-f9e432a3d163",
   "metadata": {},
   "outputs": [],
   "source": [
    "def f(x):\n",
    "    return x**2*np.sin(x)/np.exp(-x)\n",
    "\n",
    "x=np.linspace(0,10,100)\n",
    "y=f(x)"
   ]
  },
  {
   "cell_type": "code",
   "execution_count": 12,
   "id": "d04142ac-362c-4b6a-b927-c7d74b16b7d5",
   "metadata": {},
   "outputs": [
    {
     "data": {
      "text/plain": [
       "[<matplotlib.lines.Line2D at 0x7cae4bf136d0>]"
      ]
     },
     "execution_count": 12,
     "metadata": {},
     "output_type": "execute_result"
    },
    {
     "data": {
      "image/png": "[encoded data removed]",
      "text/plain": [
       "<Figure size 640x480 with 1 Axes>"
      ]
     },
     "metadata": {},
     "output_type": "display_data"
    }
   ],
   "source": [
    "plt.plot(x,y)"
   ]
  },
  {
   "cell_type": "markdown",
   "id": "3280853f-3ec8-462f-b4c4-8bb1ec8e9260",
   "metadata": {},
   "source": [
    "##### https://numpy.org/doc/stable/reference/routines.math.html"
   ]
  },
  {
   "cell_type": "markdown",
   "id": "882857ef-8705-49c8-9e37-f5df9cef8155",
   "metadata": {},
   "source": [
    "# Array Indexing/Slicing"
   ]
  },
  {
   "cell_type": "code",
   "execution_count": 13,
   "id": "0da8b0fb-8e5f-413b-a54a-edd7e6022a6d",
   "metadata": {},
   "outputs": [
    {
     "data": {
      "text/plain": [
       "6"
      ]
     },
     "execution_count": 13,
     "metadata": {},
     "output_type": "execute_result"
    }
   ],
   "source": [
    "a1=np.array([2,4,6,8,10])\n",
    "a1[2]"
   ]
  },
  {
   "cell_type": "code",
   "execution_count": 14,
   "id": "50363460-ebb5-4acc-9ebd-9fa380ebbb8a",
   "metadata": {},
   "outputs": [
    {
     "data": {
      "text/plain": [
       "array([ 6,  8, 10])"
      ]
     },
     "execution_count": 14,
     "metadata": {},
     "output_type": "execute_result"
    }
   ],
   "source": [
    "a1[2:]"
   ]
  },
  {
   "cell_type": "code",
   "execution_count": 15,
   "id": "4f62da61-a8e9-40f3-ade2-2b613b02d3a7",
   "metadata": {},
   "outputs": [
    {
     "data": {
      "text/plain": [
       "array([2, 4, 6])"
      ]
     },
     "execution_count": 15,
     "metadata": {},
     "output_type": "execute_result"
    }
   ],
   "source": [
    "a1[:-2]"
   ]
  },
  {
   "cell_type": "code",
   "execution_count": 16,
   "id": "e94fcb3c-cad8-4b84-af26-33ed7abc666f",
   "metadata": {},
   "outputs": [
    {
     "data": {
      "text/plain": [
       "array([4, 6])"
      ]
     },
     "execution_count": 16,
     "metadata": {},
     "output_type": "execute_result"
    }
   ],
   "source": [
    "a1[1:-2]"
   ]
  },
  {
   "cell_type": "code",
   "execution_count": 17,
   "id": "b1913e7e-88fb-4c25-b7fb-55cfbde955e7",
   "metadata": {},
   "outputs": [
    {
     "data": {
      "text/plain": [
       "array([ 4,  6,  8, 10])"
      ]
     },
     "execution_count": 17,
     "metadata": {},
     "output_type": "execute_result"
    }
   ],
   "source": [
    "a1[a1>3]"
   ]
  },
  {
   "cell_type": "code",
   "execution_count": 18,
   "id": "e80c2f29-361a-4e08-9380-23c34790b626",
   "metadata": {},
   "outputs": [
    {
     "data": {
      "text/plain": [
       "array(['Ankit', 'Anay'], dtype='<U8')"
      ]
     },
     "execution_count": 18,
     "metadata": {},
     "output_type": "execute_result"
    }
   ],
   "source": [
    "names=np.array([\"Divyansh\",\"Vedant\",\"Ankit\",\"Anay\"])\n",
    "name_firstletter_A=np.vectorize(lambda s:s[0])(names)=='A'\n",
    "names[name_firstletter_A]"
   ]
  },
  {
   "cell_type": "code",
   "execution_count": 19,
   "id": "ea6880c7-29f0-490c-a7ef-2d29e5ba1f60",
   "metadata": {},
   "outputs": [
    {
     "data": {
      "text/plain": [
       "array([4, 8])"
      ]
     },
     "execution_count": 19,
     "metadata": {},
     "output_type": "execute_result"
    }
   ],
   "source": [
    "a1[a1%4==0]"
   ]
  },
  {
   "cell_type": "markdown",
   "id": "37e964cc-a7ce-44ad-93ed-2626cdadd522",
   "metadata": {},
   "source": [
    "# Calculus/Statistical Functions"
   ]
  },
  {
   "cell_type": "code",
   "execution_count": 21,
   "id": "77f0c05c-b838-43c3-a92e-0f443b15e946",
   "metadata": {},
   "outputs": [],
   "source": [
    "a1=2*np.random.randn(1000)+10  \n",
    "\n",
    "#np.random.randn generates fn with mean 0 and std 1 . multiplying by 2 increases std to 2 and adding by 10 shifts by 10"
   ]
  },
  {
   "cell_type": "markdown",
   "id": "97e642de-61b3-42ce-a2bd-e67ea00b0ac0",
   "metadata": {},
   "source": [
    "##### Mean,standard deviation and percentiles of array"
   ]
  },
  {
   "cell_type": "code",
   "execution_count": 24,
   "id": "f69bac9e-5a69-4dc1-929f-1e94a3dc83e7",
   "metadata": {},
   "outputs": [
    {
     "data": {
      "text/plain": [
       "9.94598898333856"
      ]
     },
     "execution_count": 24,
     "metadata": {},
     "output_type": "execute_result"
    }
   ],
   "source": [
    "np.mean(a1) #close to 10 since mean shifted from 0 to 10"
   ]
  },
  {
   "cell_type": "code",
   "execution_count": 26,
   "id": "25ef1d9a-859b-4919-9707-dd5ebe4dd480",
   "metadata": {},
   "outputs": [
    {
     "data": {
      "text/plain": [
       "1.9972731556593144"
      ]
     },
     "execution_count": 26,
     "metadata": {},
     "output_type": "execute_result"
    }
   ],
   "source": [
    "np.std(a1) #close to 2 since std increased from 1 to 2"
   ]
  },
  {
   "cell_type": "code",
   "execution_count": 35,
   "id": "08a24cb3-3a79-42ef-92c1-4b9bd761a5f2",
   "metadata": {},
   "outputs": [
    {
     "data": {
      "text/plain": [
       "11.652297263221277"
      ]
     },
     "execution_count": 35,
     "metadata": {},
     "output_type": "execute_result"
    }
   ],
   "source": [
    "np.percentile(a1,80)\n",
    "#value in a1 below which 80% of data lies"
   ]
  },
  {
   "cell_type": "markdown",
   "id": "cdf12d55-aad5-4c6e-8098-dc95eeb9b4df",
   "metadata": {},
   "source": [
    "##### Integrals and derivatives"
   ]
  },
  {
   "cell_type": "code",
   "execution_count": 46,
   "id": "68fe86c5-9bb5-47c5-8993-d5493f827b1e",
   "metadata": {},
   "outputs": [],
   "source": [
    "x=np.linspace(1,10,100)\n",
    "y=1/x**2 * np.sin(x)\n",
    "\n",
    "dydx = np.gradient(y,x)  #to calculate derivative dy/dx\n",
    "\n",
    "y_integral=np.cumsum(y) * (x[1]-x[0])  \n",
    "\n",
    "#to sum up all values to get cumulative sum and thats what integral is. (x[1]-x[0]) is dx\n",
    "#It's multiplying the cumulative sum by the difference between the second and first elements of the array x. This assumes that the \n",
    "#x values are equally spaced, with a constant difference between adjacent values."
   ]
  },
  {
   "cell_type": "code",
   "execution_count": 47,
   "id": "b036b139-882f-4649-8169-18d777998427",
   "metadata": {},
   "outputs": [
    {
     "data": {
      "text/plain": [
       "[<matplotlib.lines.Line2D at 0x7cae4947bb50>]"
      ]
     },
     "execution_count": 47,
     "metadata": {},
     "output_type": "execute_result"
    },
    {
     "data": {
      "image/png": "[encoded data removed]",
      "text/plain": [
       "<Figure size 640x480 with 1 Axes>"
      ]
     },
     "metadata": {},
     "output_type": "display_data"
    }
   ],
   "source": [
    "plt.plot(x,y)\n",
    "plt.plot(x,dydx)\n",
    "plt.plot(x,y_integral)"
   ]
  },
  {
   "cell_type": "markdown",
   "id": "56b0b0e8-0762-4920-ae6f-7090b9ed1498",
   "metadata": {},
   "source": [
    "# Examples"
   ]
  },
  {
   "cell_type": "markdown",
   "id": "c6c236d4-4b02-433f-a448-7d0294af02c2",
   "metadata": {},
   "source": [
    "## Question 1:"
   ]
  },
  {
   "cell_type": "code",
   "execution_count": 52,
   "id": "01bb8f6c-5084-4300-8550-ec56292b775a",
   "metadata": {},
   "outputs": [
    {
     "data": {
      "text/plain": [
       "[<matplotlib.lines.Line2D at 0x7cae481572b0>]"
      ]
     },
     "execution_count": 52,
     "metadata": {},
     "output_type": "execute_result"
    },
    {
     "data": {
      "image/png": "[encoded data removed]",
      "text/plain": [
       "<Figure size 640x480 with 1 Axes>"
      ]
     },
     "metadata": {},
     "output_type": "display_data"
    }
   ],
   "source": [
    "#1\n",
    "N=10000\n",
    "x=np.linspace(1,10,N+1)     #N+1 since there are 3 points in 2 intervals\n",
    "y=np.exp(-x/10)*np.sin(x)\n",
    "plt.plot(x,y)"
   ]
  },
  {
   "cell_type": "code",
   "execution_count": null,
   "id": "07958a4f-a827-4394-b248-abd6c03039b0",
   "metadata": {},
   "outputs": [],
   "source": []
  }
 ],
 "metadata": {
  "kernelspec": {
   "display_name": "Python 3 (ipykernel)",
   "language": "python",
   "name": "python3"
  },
  "language_info": {
   "codemirror_mode": {
    "name": "ipython",
    "version": 3
   },
   "file_extension": ".py",
   "mimetype": "text/x-python",
   "name": "python",
   "nbconvert_exporter": "python",
   "pygments_lexer": "ipython3",
   "version": "3.10.12"
  }
 },
 "nbformat": 4,
 "nbformat_minor": 5
}
